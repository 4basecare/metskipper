{
 "cells": [
  {
   "cell_type": "code",
   "execution_count": 2,
   "metadata": {},
   "outputs": [],
   "source": [
    "import os as os\n"
   ]
  },
  {
   "cell_type": "code",
   "execution_count": 27,
   "metadata": {},
   "outputs": [],
   "source": [
    "fuseq_folds = os.listdir(\"/Users/prksh/Downloads/MET_Eskip/NegativeSams/\")"
   ]
  },
  {
   "cell_type": "code",
   "execution_count": 30,
   "metadata": {},
   "outputs": [],
   "source": [
    "for dir in fuseq_folds:\n",
    "    if 'feq_ALL.txt' in os.listdir(dir):\n",
    "        \n",
    "        os.rename(f'{dir}/feq_ALL.txt', f'{dir}/{dir}_feq_ALL.txt')"
   ]
  },
  {
   "cell_type": "code",
   "execution_count": 28,
   "metadata": {},
   "outputs": [
    {
     "data": {
      "text/plain": [
       "['FuSeq_WES_MR_fge.txt',\n",
       " 'FuSeq_WES_MR_fge_fdb.txt',\n",
       " 'IN-HOM-WCAA-FE-S7-FuSeq_WES_FusionFinal.txt',\n",
       " 'IN-HOM-WCAA-FE-S7-FuSeq_WES_SR_fge.txt',\n",
       " 'IN-HOM-WCAA-FE-S7-FuSeq_WES_SR_fge_fdb.txt',\n",
       " 'IN-HOM-WCAA-FE-S7_fusions_feq_ALL.txt',\n",
       " 'splitReadInfo.bedpe',\n",
       " 'splitReadInfo.txt']"
      ]
     },
     "execution_count": 28,
     "metadata": {},
     "output_type": "execute_result"
    }
   ],
   "source": [
    "os.listdir('IN-HOM-WCAA-FE-S7_fusions')"
   ]
  },
  {
   "cell_type": "code",
   "execution_count": 3,
   "metadata": {},
   "outputs": [],
   "source": [
    "os.chdir(\"/Users/prksh/Downloads/MET_Eskip/NegativeSams/feq_ALL_negs/\")"
   ]
  },
  {
   "cell_type": "code",
   "execution_count": 4,
   "metadata": {},
   "outputs": [],
   "source": [
    "import pandas as pd"
   ]
  },
  {
   "cell_type": "code",
   "execution_count": 11,
   "metadata": {},
   "outputs": [],
   "source": [
    "neg_sams = os.listdir(\"/Users/prksh/Downloads/MET_Eskip/NegativeSams/feq_ALL_negs/\")"
   ]
  },
  {
   "cell_type": "code",
   "execution_count": 14,
   "metadata": {},
   "outputs": [
    {
     "data": {
      "text/plain": [
       "0"
      ]
     },
     "execution_count": 14,
     "metadata": {},
     "output_type": "execute_result"
    }
   ],
   "source": []
  },
  {
   "cell_type": "code",
   "execution_count": null,
   "metadata": {},
   "outputs": [],
   "source": [
    "for f in neg_sams:\n",
    "    df = pd.read_csv(f, sep=\"\\t\")\n",
    "    df2=df[df['Transcript'].str.contains(\"MET_\")]\n",
    "    if len(df2)>0:\n",
    "        df2[['Gene', 'Chr', 'start', 'end']]=df2['Transcript'].str.split(\"__\", expand =True)\n",
    "        df2['start'] = df2['start'].astype(int)\n",
    "        df2['end'] = df2['end'].astype(int)\n",
    "        \n",
    "        metski1=[]\n",
    "        for i in df2['start']:\n",
    "            if i in range(116411551,116417443):\n",
    "                metski1.append('Skip Split')\n",
    "            else:\n",
    "                metski1.append('NS Split')\n",
    "        metski2=[]\n",
    "        for i in df2['end']:\n",
    "            if i in range(116411551,116417443):\n",
    "                metski2.append('Skip Split')\n",
    "            else:\n",
    "                metski2.append('NS Split')\n",
    "        df2['start_skip'] = metski1\n",
    "        df2['end_skip'] = metski2\n",
    "        df2.sort_values(by='Transcript')\n",
    "        df2['filename'] = f\n",
    "        df2.to_csv(f'{f}_METskip.csv')\n",
    "    \n",
    "    \n",
    "    \n"
   ]
  },
  {
   "cell_type": "code",
   "execution_count": 65,
   "metadata": {},
   "outputs": [],
   "source": [
    "df2=df[df['Transcript'].str.contains(\"MET_\")]"
   ]
  },
  {
   "cell_type": "code",
   "execution_count": null,
   "metadata": {},
   "outputs": [],
   "source": [
    "df2[['Gene', 'Chr', 'start', 'end']]=df2['Transcript'].str.split(\"__\", expand =True)"
   ]
  },
  {
   "cell_type": "code",
   "execution_count": null,
   "metadata": {},
   "outputs": [],
   "source": [
    "df2['start'] = df2['start'].astype(int)\n",
    "df2['end'] = df2['end'].astype(int)"
   ]
  },
  {
   "cell_type": "code",
   "execution_count": 69,
   "metadata": {},
   "outputs": [],
   "source": [
    "metski1=[]\n",
    "for i in df2['start']:\n",
    "    if i in range(116411551,116417443):\n",
    "        metski1.append('Skip Split')\n",
    "    else:\n",
    "        metski1.append('NS Split')\n",
    " \n",
    "\n",
    "metski2=[]\n",
    "for i in df2['end']:\n",
    "    if i in range(116411551,116417443):\n",
    "        metski2.append('Skip Split')\n",
    "    else:\n",
    "        metski2.append('NS Split')\n"
   ]
  },
  {
   "cell_type": "code",
   "execution_count": null,
   "metadata": {},
   "outputs": [],
   "source": [
    "df2['start_skip'] = metski1\n",
    "df2['end_skip'] = metski2"
   ]
  },
  {
   "cell_type": "code",
   "execution_count": null,
   "metadata": {},
   "outputs": [],
   "source": [
    "df2.sort_values(by='Transcript')"
   ]
  },
  {
   "cell_type": "code",
   "execution_count": 73,
   "metadata": {},
   "outputs": [],
   "source": [
    "df['filename'] = 'vbuk'"
   ]
  },
  {
   "cell_type": "code",
   "execution_count": 74,
   "metadata": {},
   "outputs": [
    {
     "data": {
      "text/plain": [
       "0       vbuk\n",
       "1       vbuk\n",
       "2       vbuk\n",
       "3       vbuk\n",
       "4       vbuk\n",
       "        ... \n",
       "5439    vbuk\n",
       "5440    vbuk\n",
       "5441    vbuk\n",
       "5442    vbuk\n",
       "5443    vbuk\n",
       "Name: filename, Length: 5444, dtype: object"
      ]
     },
     "execution_count": 74,
     "metadata": {},
     "output_type": "execute_result"
    }
   ],
   "source": [
    "df['filename']"
   ]
  },
  {
   "cell_type": "code",
   "execution_count": null,
   "metadata": {},
   "outputs": [],
   "source": [
    "'chr66'-'c'"
   ]
  },
  {
   "cell_type": "code",
   "execution_count": null,
   "metadata": {},
   "outputs": [],
   "source": [
    "gene_name = \"MET\"\n",
    "exon13_sequence = \"ACGTGTACAGCTGACTGACTGACTGAC\"\n",
    "exon14_sequence = \"TCGAGCTAGCTAGCTAGCTAGCTA\"\n",
    "exon15_sequence = \"GTACAGCTGACTGACTGACTGACTGACGTACAG\"\n",
    "\n",
    "# Create a dictionary to store the splice variant sequences\n",
    "splice_variants = {\n",
    "    \"Transcript1\": exon13_sequence + exon14_sequence + exon15_sequence,\n",
    "    \"Transcript2\": exon13_sequence + exon15_sequence,\n",
    "    \"Transcript3\": exon13_sequence + exon14_sequence,\n",
    "    # Add more splice variants if necessary\n",
    "}\n",
    "\n",
    "# Write the splice variant sequences to the reference FASTA file\n",
    "with open(f\"{gene_name}_reference.fasta\", \"w\") as fasta_file:\n",
    "    for transcript_id, sequence in splice_variants.items():\n",
    "        fasta_file.write(f\">{transcript_id}\\n{sequence}\\n\")\n"
   ]
  }
 ],
 "metadata": {
  "kernelspec": {
   "display_name": "Python 3",
   "language": "python",
   "name": "python3"
  },
  "language_info": {
   "codemirror_mode": {
    "name": "ipython",
    "version": 3
   },
   "file_extension": ".py",
   "mimetype": "text/x-python",
   "name": "python",
   "nbconvert_exporter": "python",
   "pygments_lexer": "ipython3",
   "version": "3.10.2"
  },
  "orig_nbformat": 4
 },
 "nbformat": 4,
 "nbformat_minor": 2
}
